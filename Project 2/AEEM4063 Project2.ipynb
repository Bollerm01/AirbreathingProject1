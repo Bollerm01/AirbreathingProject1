{
 "cells": [
  {
   "cell_type": "markdown",
   "metadata": {},
   "source": [
    "# Project 2"
   ]
  },
  {
   "cell_type": "markdown",
   "metadata": {},
   "source": [
    "### Starting with the compressor design:"
   ]
  },
  {
   "cell_type": "code",
   "execution_count": 1,
   "metadata": {},
   "outputs": [
    {
     "name": "stdout",
     "output_type": "stream",
     "text": [
      "Rotational speed: 196.86 (rev/s)\n",
      "Tip radius (inlet): 0.28297 (m)\n",
      "Mean radius (constant): 0.21222 (m)\n",
      "Root radius (inlet): 0.14148 (m)\n",
      "Tip radius (outlet): 0.2228 (m)\n",
      "Root radius (outlet): 0.20164 (m)\n",
      "Mach number at tip (inlet): 1.081\n"
     ]
    },
    {
     "ename": "ValueError",
     "evalue": "cannot set a row with mismatched columns",
     "output_type": "error",
     "traceback": [
      "\u001b[1;31m---------------------------------------------------------------------------\u001b[0m",
      "\u001b[1;31mValueError\u001b[0m                                Traceback (most recent call last)",
      "\u001b[1;32mc:\\Users\\Delli\\Documents\\GitHub\\AirbreathingProject1\\Project 2\\AEEM4063 Project2.ipynb Cell 3\u001b[0m line \u001b[0;36m2\n\u001b[0;32m     <a href='vscode-notebook-cell:/c%3A/Users/Delli/Documents/GitHub/AirbreathingProject1/Project%202/AEEM4063%20Project2.ipynb#W2sZmlsZQ%3D%3D?line=16'>17</a>\u001b[0m \u001b[39m# print('Compressor Outlet Pressure: ' +str(np.round(P_02,5)))\u001b[39;00m\n\u001b[0;32m     <a href='vscode-notebook-cell:/c%3A/Users/Delli/Documents/GitHub/AirbreathingProject1/Project%202/AEEM4063%20Project2.ipynb#W2sZmlsZQ%3D%3D?line=17'>18</a>\u001b[0m \u001b[39m# print('Compressor Outlet Temp: ' +str(np.round(T_02,5)))\u001b[39;00m\n\u001b[0;32m     <a href='vscode-notebook-cell:/c%3A/Users/Delli/Documents/GitHub/AirbreathingProject1/Project%202/AEEM4063%20Project2.ipynb#W2sZmlsZQ%3D%3D?line=18'>19</a>\u001b[0m \u001b[39m# print('TIP: ' +str(np.round(P_03,5)))\u001b[39;00m\n\u001b[0;32m     <a href='vscode-notebook-cell:/c%3A/Users/Delli/Documents/GitHub/AirbreathingProject1/Project%202/AEEM4063%20Project2.ipynb#W2sZmlsZQ%3D%3D?line=19'>20</a>\u001b[0m \u001b[39m# print('TIT: ' +str(np.round(T_03,5)))\u001b[39;00m\n\u001b[0;32m     <a href='vscode-notebook-cell:/c%3A/Users/Delli/Documents/GitHub/AirbreathingProject1/Project%202/AEEM4063%20Project2.ipynb#W2sZmlsZQ%3D%3D?line=20'>21</a>\u001b[0m \u001b[39mprint\u001b[39m(\u001b[39m'\u001b[39m\u001b[39mMach number at tip (inlet): \u001b[39m\u001b[39m'\u001b[39m\u001b[39m+\u001b[39m\u001b[39mstr\u001b[39m(np\u001b[39m.\u001b[39mround(M1t,\u001b[39m3\u001b[39m)))\n\u001b[1;32m---> <a href='vscode-notebook-cell:/c%3A/Users/Delli/Documents/GitHub/AirbreathingProject1/Project%202/AEEM4063%20Project2.ipynb#W2sZmlsZQ%3D%3D?line=22'>23</a>\u001b[0m meantable \u001b[39m=\u001b[39m backend\u001b[39m.\u001b[39;49mfullcompressor()\n\u001b[0;32m     <a href='vscode-notebook-cell:/c%3A/Users/Delli/Documents/GitHub/AirbreathingProject1/Project%202/AEEM4063%20Project2.ipynb#W2sZmlsZQ%3D%3D?line=24'>25</a>\u001b[0m \u001b[39m# disp.display(table)\u001b[39;00m\n\u001b[0;32m     <a href='vscode-notebook-cell:/c%3A/Users/Delli/Documents/GitHub/AirbreathingProject1/Project%202/AEEM4063%20Project2.ipynb#W2sZmlsZQ%3D%3D?line=25'>26</a>\u001b[0m \u001b[39mprint\u001b[39m(\u001b[39m'\u001b[39m\u001b[39m\\n\u001b[39;00m\u001b[39mMean radius values for the compressor are: \u001b[39m\u001b[39m'\u001b[39m)\n",
      "File \u001b[1;32mc:\\Users\\Delli\\Documents\\GitHub\\AirbreathingProject1\\Project 2\\Project2BackendCalcs.py:201\u001b[0m, in \u001b[0;36mTurboMachineryComputation.fullcompressor\u001b[1;34m(self)\u001b[0m\n\u001b[0;32m    199\u001b[0m \u001b[39m# Update table\u001b[39;00m\n\u001b[0;32m    200\u001b[0m meantable\u001b[39m.\u001b[39mloc[\u001b[39mlen\u001b[39m(meantable)] \u001b[39m=\u001b[39m data\n\u001b[1;32m--> 201\u001b[0m sizingtable\u001b[39m.\u001b[39mloc[\u001b[39mlen\u001b[39m(sizingtable)] \u001b[39m=\u001b[39m s_data\n\u001b[0;32m    203\u001b[0m \u001b[39m################ Stage 3 ################\u001b[39;00m\n\u001b[0;32m    204\u001b[0m delta_T0 \u001b[39m=\u001b[39m \u001b[39m29\u001b[39m \u001b[39m## Desired temperature rise for the second stage\u001b[39;00m\n",
      "File \u001b[1;32mc:\\Users\\Delli\\anaconda3\\lib\\site-packages\\pandas\\core\\indexing.py:849\u001b[0m, in \u001b[0;36m_LocationIndexer.__setitem__\u001b[1;34m(self, key, value)\u001b[0m\n\u001b[0;32m    846\u001b[0m \u001b[39mself\u001b[39m\u001b[39m.\u001b[39m_has_valid_setitem_indexer(key)\n\u001b[0;32m    848\u001b[0m iloc \u001b[39m=\u001b[39m \u001b[39mself\u001b[39m \u001b[39mif\u001b[39;00m \u001b[39mself\u001b[39m\u001b[39m.\u001b[39mname \u001b[39m==\u001b[39m \u001b[39m\"\u001b[39m\u001b[39miloc\u001b[39m\u001b[39m\"\u001b[39m \u001b[39melse\u001b[39;00m \u001b[39mself\u001b[39m\u001b[39m.\u001b[39mobj\u001b[39m.\u001b[39miloc\n\u001b[1;32m--> 849\u001b[0m iloc\u001b[39m.\u001b[39;49m_setitem_with_indexer(indexer, value, \u001b[39mself\u001b[39;49m\u001b[39m.\u001b[39;49mname)\n",
      "File \u001b[1;32mc:\\Users\\Delli\\anaconda3\\lib\\site-packages\\pandas\\core\\indexing.py:1825\u001b[0m, in \u001b[0;36m_iLocIndexer._setitem_with_indexer\u001b[1;34m(self, indexer, value, name)\u001b[0m\n\u001b[0;32m   1822\u001b[0m     indexer, missing \u001b[39m=\u001b[39m convert_missing_indexer(indexer)\n\u001b[0;32m   1824\u001b[0m     \u001b[39mif\u001b[39;00m missing:\n\u001b[1;32m-> 1825\u001b[0m         \u001b[39mself\u001b[39;49m\u001b[39m.\u001b[39;49m_setitem_with_indexer_missing(indexer, value)\n\u001b[0;32m   1826\u001b[0m         \u001b[39mreturn\u001b[39;00m\n\u001b[0;32m   1828\u001b[0m \u001b[39mif\u001b[39;00m name \u001b[39m==\u001b[39m \u001b[39m\"\u001b[39m\u001b[39mloc\u001b[39m\u001b[39m\"\u001b[39m:\n\u001b[0;32m   1829\u001b[0m     \u001b[39m# must come after setting of missing\u001b[39;00m\n",
      "File \u001b[1;32mc:\\Users\\Delli\\anaconda3\\lib\\site-packages\\pandas\\core\\indexing.py:2158\u001b[0m, in \u001b[0;36m_iLocIndexer._setitem_with_indexer_missing\u001b[1;34m(self, indexer, value)\u001b[0m\n\u001b[0;32m   2155\u001b[0m     \u001b[39mif\u001b[39;00m is_list_like_indexer(value):\n\u001b[0;32m   2156\u001b[0m         \u001b[39m# must have conforming columns\u001b[39;00m\n\u001b[0;32m   2157\u001b[0m         \u001b[39mif\u001b[39;00m \u001b[39mlen\u001b[39m(value) \u001b[39m!=\u001b[39m \u001b[39mlen\u001b[39m(\u001b[39mself\u001b[39m\u001b[39m.\u001b[39mobj\u001b[39m.\u001b[39mcolumns):\n\u001b[1;32m-> 2158\u001b[0m             \u001b[39mraise\u001b[39;00m \u001b[39mValueError\u001b[39;00m(\u001b[39m\"\u001b[39m\u001b[39mcannot set a row with mismatched columns\u001b[39m\u001b[39m\"\u001b[39m)\n\u001b[0;32m   2160\u001b[0m     value \u001b[39m=\u001b[39m Series(value, index\u001b[39m=\u001b[39m\u001b[39mself\u001b[39m\u001b[39m.\u001b[39mobj\u001b[39m.\u001b[39mcolumns, name\u001b[39m=\u001b[39mindexer)\n\u001b[0;32m   2162\u001b[0m \u001b[39mif\u001b[39;00m \u001b[39mnot\u001b[39;00m \u001b[39mlen\u001b[39m(\u001b[39mself\u001b[39m\u001b[39m.\u001b[39mobj):\n\u001b[0;32m   2163\u001b[0m     \u001b[39m# We will ignore the existing dtypes instead of using\u001b[39;00m\n\u001b[0;32m   2164\u001b[0m     \u001b[39m#  internals.concat logic\u001b[39;00m\n",
      "\u001b[1;31mValueError\u001b[0m: cannot set a row with mismatched columns"
     ]
    }
   ],
   "source": [
    "import pandas as pd \n",
    "from Project2BackendCalcs import TurboMachineryComputation\n",
    "import IPython.display as disp\n",
    "import numpy as np\n",
    "from IPython.display import Markdown as md\n",
    "\n",
    "\n",
    "backend = TurboMachineryComputation()\n",
    "N,rt,rm,rr,M1t,rt3,rr3, P_02, T_02, P_03, T_03 = backend.update()\n",
    "\n",
    "print('Rotational speed: '+str(np.round(N,2))+' (rev/s)')\n",
    "print('Tip radius (inlet): '+str(np.round(rt,5))+' (m)')\n",
    "print('Mean radius (constant): '+str(np.round(rm,5))+' (m)')\n",
    "print('Root radius (inlet): '+str(np.round(rr,5))+' (m)')\n",
    "print('Tip radius (outlet): '+str(np.round(rt3,5))+' (m)')\n",
    "print('Root radius (outlet): '+str(np.round(rr3,5))+' (m)')\n",
    "# print('Compressor Outlet Pressure: ' +str(np.round(P_02,5)))\n",
    "# print('Compressor Outlet Temp: ' +str(np.round(T_02,5)))\n",
    "# print('TIP: ' +str(np.round(P_03,5)))\n",
    "# print('TIT: ' +str(np.round(T_03,5)))\n",
    "print('Mach number at tip (inlet): '+str(np.round(M1t,3)))\n",
    "\n",
    "meantable = backend.fullcompressor()\n",
    "\n",
    "# disp.display(table)\n",
    "print('\\nMean radius values for the compressor are: ')\n",
    "disp.display(meantable)\n",
    "\n",
    "dT0_turb, T0s, stages = backend.fullturbine()\n",
    "#md('\\n\\nTurbine $\\Delta$ T: ${}$'.format(dT0_turb))\n",
    "md('\\nStage $\\Delta$ T: ${}$ K'.format(T0s))\n",
    "print('No. Turb Stages = {}'.format(stages))\n",
    "\n"
   ]
  }
 ],
 "metadata": {
  "kernelspec": {
   "display_name": "base",
   "language": "python",
   "name": "python3"
  },
  "language_info": {
   "codemirror_mode": {
    "name": "ipython",
    "version": 3
   },
   "file_extension": ".py",
   "mimetype": "text/x-python",
   "name": "python",
   "nbconvert_exporter": "python",
   "pygments_lexer": "ipython3",
   "version": "3.9.17"
  }
 },
 "nbformat": 4,
 "nbformat_minor": 2
}
