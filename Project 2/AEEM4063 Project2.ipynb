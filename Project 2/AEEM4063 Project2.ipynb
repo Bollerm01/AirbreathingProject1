{
 "cells": [
  {
   "cell_type": "markdown",
   "metadata": {},
   "source": [
    "# Project 2"
   ]
  },
  {
   "cell_type": "code",
   "execution_count": 1,
   "metadata": {},
   "outputs": [
    {
     "name": "stdout",
     "output_type": "stream",
     "text": [
      "197.97037605648237 0.28137659377012325 0.21103244532759244 1.078785876702971 0.2216222765802986 0.20044261407488628\n",
      "30.37226659832882 15.0 435.8329067495708 755.7224187920448\n"
     ]
    }
   ],
   "source": [
    "from Project2BackendCalcs import TurboMachineryComputation\n",
    "\n",
    "backend = TurboMachineryComputation()\n",
    "N,rt,rm,M1t,rt3,rr3 = backend.update()\n",
    "\n",
    "print(N,rt,rm,M1t,rt3,rr3)\n",
    "\n",
    "T0s_est, stages, T0s_tot, T03 = backend.fullcompressor()\n",
    "print(T0s_est, stages, T0s_tot, T03)"
   ]
  }
 ],
 "metadata": {
  "kernelspec": {
   "display_name": "base",
   "language": "python",
   "name": "python3"
  },
  "language_info": {
   "codemirror_mode": {
    "name": "ipython",
    "version": 3
   },
   "file_extension": ".py",
   "mimetype": "text/x-python",
   "name": "python",
   "nbconvert_exporter": "python",
   "pygments_lexer": "ipython3",
   "version": "3.9.17"
  }
 },
 "nbformat": 4,
 "nbformat_minor": 2
}
