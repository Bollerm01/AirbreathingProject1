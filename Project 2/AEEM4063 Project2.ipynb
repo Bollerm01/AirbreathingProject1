{
 "cells": [
  {
   "cell_type": "markdown",
   "metadata": {},
   "source": [
    "# Project 2"
   ]
  },
  {
   "cell_type": "markdown",
   "metadata": {},
   "source": [
    "### Starting with the compressor design:"
   ]
  },
  {
   "cell_type": "code",
   "execution_count": null,
   "metadata": {},
   "outputs": [],
   "source": [
    "import pandas as pd \n",
    "from Project2BackendCalcs import TurboMachineryComputation\n",
    "import IPython.display as disp\n",
    "import numpy as np\n",
    "from IPython.display import Markdown as md\n",
    "\n",
    "\n",
    "backend = TurboMachineryComputation()\n",
    "'''N,rt,rm,rr,M1t,rt3,rr3, P_02, T_02, P_03, T_03 = backend.update()\n",
    "\n",
    "print('Rotational speed: '+str(np.round(N,2))+' (rev/s)')\n",
    "print('Tip radius (inlet): '+str(np.round(rt,5))+' (m)')\n",
    "print('Mean radius (constant): '+str(np.round(rm,5))+' (m)')\n",
    "print('Root radius (inlet): '+str(np.round(rr,5))+' (m)')\n",
    "print('Tip radius (outlet): '+str(np.round(rt3,5))+' (m)')\n",
    "print('Root radius (outlet): '+str(np.round(rr3,5))+' (m)')\n",
    "# print('Compressor Outlet Pressure: ' +str(np.round(P_02,5)))\n",
    "# print('Compressor Outlet Temp: ' +str(np.round(T_02,5)))\n",
    "# print('TIP: ' +str(np.round(P_03,5)))\n",
    "# print('TIT: ' +str(np.round(T_03,5)))\n",
    "print('Mach number at tip (inlet): '+str(np.round(M1t,3)))\n",
    "\n",
    "meantable,sizingtable = backend.fullcompressor()\n",
    "\n",
    "# disp.display(table)\n",
    "print('\\nMean radius values for the compressor are: ')\n",
    "disp.display(meantable)\n",
    "\n",
    "print('\\nSizing throughout the compressor: ')\n",
    "disp.display(sizingtable)'''\n",
    "\n",
    "gasParams, measurements, stage_est, Um = backend.fullturbine()\n",
    "print('\\nMean Blade Speed: ', Um)\n",
    "print('\\nEstimated No. of Stages: ', stage_est )\n",
    "print('\\nGas Parameters for the Turbine: ')\n",
    "disp.display(gasParams)\n",
    "\n",
    "print('\\nSizing through the turbine: ')\n",
    "disp.display(measurements)\n"
   ]
  }
 ],
 "metadata": {
  "kernelspec": {
   "display_name": "base",
   "language": "python",
   "name": "python3"
  },
  "language_info": {
   "codemirror_mode": {
    "name": "ipython",
    "version": 3
   },
   "file_extension": ".py",
   "mimetype": "text/x-python",
   "name": "python",
   "nbconvert_exporter": "python",
   "pygments_lexer": "ipython3",
   "version": "3.10.12"
  }
 },
 "nbformat": 4,
 "nbformat_minor": 2
}
