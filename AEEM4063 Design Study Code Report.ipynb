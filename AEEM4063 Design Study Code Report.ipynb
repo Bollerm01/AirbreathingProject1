{
 "cells": [
  {
   "cell_type": "markdown",
   "metadata": {},
   "source": [
    "### Project 1 - Turbofan Design Parameter Study\n",
    "#### AEEM404063 Airbreathing Propulsion\n",
    "#### Matt Boller, Pierce Elliott, Jon Frueh, Ben Rupe\n",
    "#### Fall Semester 2023 "
   ]
  },
  {
   "cell_type": "code",
   "execution_count": 1,
   "metadata": {},
   "outputs": [],
   "source": [
    "from Project1BackendCalcs import TFComputation\n",
    "import numpy as np\n",
    "import matplotlib.pyplot as plt"
   ]
  },
  {
   "cell_type": "markdown",
   "metadata": {},
   "source": [
    "### Real Cycle comparison"
   ]
  },
  {
   "cell_type": "code",
   "execution_count": 2,
   "metadata": {},
   "outputs": [
    {
     "name": "stdout",
     "output_type": "stream",
     "text": [
      "mdot = 560.1610901608094 (kg/s)\n",
      "dia = 2.79177391983188 (m)\n",
      "F/mdot = 125.34247142894058 (N/(kg/s))\n",
      "TSFC = 17.94568148828489\n",
      "f = 0.024742916761400377\n",
      "Thermal efficiency = 0.43676772985521783\n",
      "Propulsive efficiency = 0.7427478609781011\n",
      "Overall efficiency = 0.32440829709422414\n"
     ]
    }
   ],
   "source": [
    "TF = TFComputation()\n",
    "#B = 10.0; pi_f = 1.5; pi_c = 36\n",
    "data = TF.fullCycleCalc()\n",
    "print(\"mdot = \" + str(data[0]) + \" (kg/s)\")\n",
    "print(\"dia = \" + str(data[1])+ \" (m)\")\n",
    "print(\"F/mdot = \" + str(data[2])+ \" (N/(kg/s))\")\n",
    "print(\"TSFC = \" + str(data[3]))\n",
    "print(\"f = \" + str(data[4]))\n",
    "print(\"Thermal efficiency = \" + str(data[5]))\n",
    "print(\"Propulsive efficiency = \" + str(data[6]))\n",
    "print(\"Overall efficiency = \" + str(data[7]))"
   ]
  },
  {
   "cell_type": "markdown",
   "metadata": {},
   "source": [
    "### Bypass Ratio (BPR) Design Study \n",
    "Our team has performed a robust analysis on our turbofan BPR and will demonstrate below the effect of bypass ratios ranging from 5 to 20 on the $\\frac{F}{\\dot{m}}$, TSFC, $f$, $\\eta_T$, $\\eta_P$, and $\\eta_O$"
   ]
  },
  {
   "cell_type": "code",
   "execution_count": 3,
   "metadata": {},
   "outputs": [],
   "source": [
    "### Placeholder for the BPR study ###\n",
    "\n",
    "\n"
   ]
  },
  {
   "cell_type": "markdown",
   "metadata": {},
   "source": [
    "### Fan Pressure Ratio (FPR) Design Study \n",
    "Analysis of the effect of FPR ranging from 1.2 to 2.0 on the $\\frac{F}{\\dot{m}}$, TSFC, $f$, $\\eta_T$, $\\eta_P$, and $\\eta_O$ will be demonstrated below"
   ]
  },
  {
   "cell_type": "code",
   "execution_count": 4,
   "metadata": {},
   "outputs": [],
   "source": [
    "### Placeholder for the FPR study ###\n"
   ]
  },
  {
   "cell_type": "markdown",
   "metadata": {},
   "source": [
    "### Compressor Pressure Ratio Design Study\n",
    "Analysis of the effect of compressor pressure ratio values ranging from 20 to 40 on the $\\frac{F}{\\dot{m}}$, TSFC, $f$, $\\eta_T$, $\\eta_P$, and $\\eta_O$ will be demonstrated below"
   ]
  },
  {
   "cell_type": "code",
   "execution_count": 5,
   "metadata": {},
   "outputs": [],
   "source": [
    "### Placeholder for the CPR study ###\n"
   ]
  },
  {
   "cell_type": "markdown",
   "metadata": {},
   "source": [
    "### Our Perspective on Design Performance \n",
    "This is where we will review the graphs and suggest avenues of design."
   ]
  }
 ],
 "metadata": {
  "kernelspec": {
   "display_name": "base",
   "language": "python",
   "name": "python3"
  },
  "language_info": {
   "codemirror_mode": {
    "name": "ipython",
    "version": 3
   },
   "file_extension": ".py",
   "mimetype": "text/x-python",
   "name": "python",
   "nbconvert_exporter": "python",
   "pygments_lexer": "ipython3",
   "version": "3.9.17"
  }
 },
 "nbformat": 4,
 "nbformat_minor": 2
}
