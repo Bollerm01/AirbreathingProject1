{
 "cells": [
  {
   "cell_type": "markdown",
   "metadata": {},
   "source": [
    "### Project 1 - Turbofan Design Parameter Study\n",
    "#### AEEM404063 Airbreathing Propulsion\n",
    "#### Matt Boller, Pierce Elliott, Jon Frueh, Ben Rupe\n",
    "#### Fall Semester 2023 "
   ]
  },
  {
   "cell_type": "code",
   "execution_count": 1,
   "metadata": {},
   "outputs": [],
   "source": [
    "from Project1BackendCalcs import TFComputation\n",
    "import numpy as np\n",
    "import matplotlib.pyplot as plt"
   ]
  },
  {
   "cell_type": "markdown",
   "metadata": {},
   "source": [
    "### Real Cycle comparison"
   ]
  },
  {
   "cell_type": "code",
   "execution_count": 2,
   "metadata": {},
   "outputs": [
    {
     "name": "stdout",
     "output_type": "stream",
     "text": [
      "mdot = 468.823176540922 (kg/s)\n",
      "dia = 2.5540436369548543 (m)\n",
      "F/mdot = 149.76216823819266 (N/(kg/s))\n",
      "TSFC = 16.11499109912029\n",
      "f = 0.02654757608957772\n",
      "Thermal efficiency = 0.5809734307956075\n",
      "Propulsive efficiency = 0.6218212608114134\n",
      "Overall efficiency = 0.36126163123525706\n",
      "[1.1228242619935507, 2.479396986731233, 0.7687023777084333, 0.7552665828058874]\n",
      "[248.12759999999997, 278.6036893502309, 690.7691478671671]\n",
      "[1.896990595199372, 1.1938851867990046]\n"
     ]
    }
   ],
   "source": [
    "TF = TFComputation()\n",
    "#B = 10.0; pi_f = 1.5; pi_c = 36\n",
    "data, tau, temp, M = TF.fullCycleCalc()\n",
    "print(\"mdot = \" + str(data[0]) + \" (kg/s)\")\n",
    "print(\"dia = \" + str(data[1])+ \" (m)\")\n",
    "print(\"F/mdot = \" + str(data[2])+ \" (N/(kg/s))\")\n",
    "print(\"TSFC = \" + str(data[3]))\n",
    "print(\"f = \" + str(data[4]))\n",
    "print(\"Thermal efficiency = \" + str(data[5]))\n",
    "print(\"Propulsive efficiency = \" + str(data[6]))\n",
    "print(\"Overall efficiency = \" + str(data[7]))\n",
    "\n",
    "print(tau)\n",
    "print(temp)\n",
    "print(M)"
   ]
  },
  {
   "cell_type": "markdown",
   "metadata": {},
   "source": [
    "### Bypass Ratio (BPR) Design Study \n",
    "Our team has performed a robust analysis on our turbofan BPR and will demonstrate below the effect of bypass ratios ranging from 5 to 20 on the $\\frac{F}{\\dot{m}}$, TSFC, $f$, $\\eta_T$, $\\eta_P$, and $\\eta_O$"
   ]
  },
  {
   "cell_type": "code",
   "execution_count": 3,
   "metadata": {},
   "outputs": [],
   "source": [
    "### Placeholder for the BPR study ###\n",
    "\n",
    "\n"
   ]
  },
  {
   "cell_type": "markdown",
   "metadata": {},
   "source": [
    "### Fan Pressure Ratio (FPR) Design Study \n",
    "Analysis of the effect of FPR ranging from 1.2 to 2.0 on the $\\frac{F}{\\dot{m}}$, TSFC, $f$, $\\eta_T$, $\\eta_P$, and $\\eta_O$ will be demonstrated below"
   ]
  },
  {
   "cell_type": "code",
   "execution_count": 4,
   "metadata": {},
   "outputs": [],
   "source": [
    "### Placeholder for the FPR study ###\n"
   ]
  },
  {
   "cell_type": "markdown",
   "metadata": {},
   "source": [
    "### Compressor Pressure Ratio Design Study\n",
    "Analysis of the effect of compressor pressure ratio values ranging from 20 to 40 on the $\\frac{F}{\\dot{m}}$, TSFC, $f$, $\\eta_T$, $\\eta_P$, and $\\eta_O$ will be demonstrated below"
   ]
  },
  {
   "cell_type": "code",
   "execution_count": 5,
   "metadata": {},
   "outputs": [],
   "source": [
    "### Placeholder for the CPR study ###\n"
   ]
  },
  {
   "cell_type": "markdown",
   "metadata": {},
   "source": [
    "### Our Perspective on Design Performance \n",
    "This is where we will review the graphs and suggest avenues of design."
   ]
  }
 ],
 "metadata": {
  "kernelspec": {
   "display_name": "base",
   "language": "python",
   "name": "python3"
  },
  "language_info": {
   "codemirror_mode": {
    "name": "ipython",
    "version": 3
   },
   "file_extension": ".py",
   "mimetype": "text/x-python",
   "name": "python",
   "nbconvert_exporter": "python",
   "pygments_lexer": "ipython3",
   "version": "3.9.17"
  }
 },
 "nbformat": 4,
 "nbformat_minor": 2
}
