{
 "cells": [
  {
   "cell_type": "markdown",
   "metadata": {},
   "source": [
    "### Project 1 - Turbofan Design Parameter Study\n",
    "#### AEEM404063 Airbreathing Propulsion\n",
    "#### Matt Boller, Pierce Elliott, Jon Frueh, Ben Rupe\n",
    "#### Fall Semester 2023 "
   ]
  },
  {
   "cell_type": "markdown",
   "metadata": {},
   "source": [
    "### Bypass Ratio (BPR) Design Study \n",
    "Our team has performed a robust analysis on our turbofan BPR and will demonstrate below the effect of bypass ratios ranging from 5 to 20 on the $\\frac{F}{\\dot{m}}$, TSFC, $f$, $\\eta_T$, $\\eta_P$, and $\\eta_O$"
   ]
  },
  {
   "cell_type": "code",
   "execution_count": null,
   "metadata": {},
   "outputs": [],
   "source": [
    "### Placeholder for the BPR study ###\n"
   ]
  },
  {
   "cell_type": "markdown",
   "metadata": {},
   "source": [
    "### Fan Pressure Ratio (FPR) Design Study \n",
    "Analysis of the effect of FPR ranging from 1.2 to 2.0 on the $\\frac{F}{\\dot{m}}$, TSFC, $f$, $\\eta_T$, $\\eta_P$, and $\\eta_O$ will be demonstrated below"
   ]
  },
  {
   "cell_type": "code",
   "execution_count": null,
   "metadata": {},
   "outputs": [],
   "source": [
    "### Placeholder for the FPR study ###\n"
   ]
  },
  {
   "cell_type": "markdown",
   "metadata": {},
   "source": [
    "### Compressor Pressure Ratio Design Study\n",
    "Analysis of the effect of compressor pressure ratio values ranging from 20 to 40 on the $\\frac{F}{\\dot{m}}$, TSFC, $f$, $\\eta_T$, $\\eta_P$, and $\\eta_O$ will be demonstrated below"
   ]
  },
  {
   "cell_type": "code",
   "execution_count": null,
   "metadata": {},
   "outputs": [],
   "source": [
    "### Placeholder for the CPR study ###\n"
   ]
  },
  {
   "cell_type": "markdown",
   "metadata": {},
   "source": [
    "### Our Perspective on Design Performance \n",
    "This is where we will review the graphs and suggest avenues of design."
   ]
  }
 ],
 "metadata": {
  "kernelspec": {
   "display_name": "base",
   "language": "python",
   "name": "python3"
  },
  "language_info": {
   "codemirror_mode": {
    "name": "ipython",
    "version": 3
   },
   "file_extension": ".py",
   "mimetype": "text/x-python",
   "name": "python",
   "nbconvert_exporter": "python",
   "pygments_lexer": "ipython3",
   "version": "3.10.12"
  }
 },
 "nbformat": 4,
 "nbformat_minor": 2
}
